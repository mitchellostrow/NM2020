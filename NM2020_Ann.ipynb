{
  "nbformat": 4,
  "nbformat_minor": 0,
  "metadata": {
    "colab": {
      "name": "NM2020_Ann.ipynb",
      "provenance": [],
      "collapsed_sections": []
    },
    "kernelspec": {
      "name": "python3",
      "display_name": "Python 3"
    }
  },
  "cells": [
    {
      "cell_type": "markdown",
      "metadata": {
        "id": "COGQuDb43S1J",
        "colab_type": "text"
      },
      "source": [
        "Note: This notebook contains only PCA-related functions written by me, and other essential helper functions to perform the trail-grouped PCA. \n",
        "I eliminated all the other EDA done by the original codes, so that it's cleaner to read and is easier to incorporate into one big file in the end.\n",
        "The HeatMapTSegXBrainReg function from Pixel is modified a little bit by adding another input argument, so that it becomes more generalized. "
      ]
    },
    {
      "cell_type": "markdown",
      "metadata": {
        "id": "bEqdz1ZUMaj1",
        "colab_type": "text"
      },
      "source": [
        "## Loading of Steinmetz data\n",
        "\n",
        "includes some visualizations"
      ]
    },
    {
      "cell_type": "code",
      "metadata": {
        "id": "TLWjKq8bLDqm",
        "colab_type": "code",
        "cellView": "both",
        "colab": {}
      },
      "source": [
        "# Data retrieval\n",
        "import os, requests\n",
        "\n",
        "fname = []\n",
        "for j in range(3):\n",
        "  fname.append('steinmetz_part%d.npz'%j)\n",
        "url = [\"https://osf.io/agvxh/download\"]\n",
        "url.append(\"https://osf.io/uv3mw/download\")\n",
        "url.append(\"https://osf.io/ehmw2/download\")\n",
        "\n",
        "for j in range(len(url)):\n",
        "  if not os.path.isfile(fname[j]):\n",
        "    try:\n",
        "      r = requests.get(url[j])\n",
        "    except requests.ConnectionError:\n",
        "      print(\"!!! Failed to download data !!!\")\n",
        "    else:\n",
        "      if r.status_code != requests.codes.ok:\n",
        "        print(\"!!! Failed to download data !!!\")\n",
        "      else:\n",
        "        with open(fname[j], \"wb\") as fid:\n",
        "          fid.write(r.content)\n"
      ],
      "execution_count": 1,
      "outputs": []
    },
    {
      "cell_type": "code",
      "metadata": {
        "id": "sffzC_hyLgWZ",
        "colab_type": "code",
        "colab": {
          "base_uri": "https://localhost:8080/",
          "height": 54
        },
        "outputId": "b364c9d1-1ecf-4478-dd4c-9fc20f70f637"
      },
      "source": [
        "# Data loading\n",
        "import numpy as np\n",
        "\n",
        "alldat = np.array([])\n",
        "for j in range(len(fname)):\n",
        "  alldat = np.hstack((alldat, np.load('steinmetz_part%d.npz'%j, allow_pickle=True)['dat']))\n",
        "\n",
        "# select just one of the recordings here. 11 is nice because it has some neurons in vis ctx. \n",
        "dat = alldat[11]\n",
        "print(dat.keys())"
      ],
      "execution_count": 16,
      "outputs": [
        {
          "output_type": "stream",
          "text": [
            "dict_keys(['spks', 'wheel', 'pupil', 'response', 'response_time', 'bin_size', 'stim_onset', 'contrast_right', 'contrast_left', 'brain_area', 'feedback_time', 'feedback_type', 'gocue', 'mouse_name', 'date_exp', 'trough_to_peak', 'active_trials', 'contrast_left_passive', 'contrast_right_passive', 'spks_passive', 'pupil_passive', 'wheel_passive', 'prev_reward', 'ccf', 'ccf_axes', 'cellid_orig', 'reaction_time', 'face', 'face_passive', 'licks', 'licks_passive'])\n"
          ],
          "name": "stdout"
        }
      ]
    },
    {
      "cell_type": "code",
      "metadata": {
        "id": "M7HV6PQHsRCD",
        "colab_type": "code",
        "colab": {
          "base_uri": "https://localhost:8080/",
          "height": 85
        },
        "outputId": "0a591f06-df4b-49b9-f91f-5b2e127cf17b"
      },
      "source": [
        "dat['spks'].shape\n",
        "NN = len(dat['brain_area'])\n",
        "response = dat['response'] \n",
        "vis_right = dat['contrast_right'] \n",
        "vis_left = dat['contrast_left']\n",
        "is_correct = np.sign(response)==np.sign(vis_left-vis_right)\n",
        "large_margin = np.abs(vis_right - vis_left) > 0.49\n",
        "print(\"correct:\"+ str(np.sum(is_correct)))\n",
        "print(\"incorrect:\"+ str(np.sum(~is_correct)))\n",
        "print(\"large margin:\" + str(np.sum(large_margin)))\n",
        "print(\"small margin:\"+ str(np.sum(~large_margin)))"
      ],
      "execution_count": 17,
      "outputs": [
        {
          "output_type": "stream",
          "text": [
            "correct:236\n",
            "incorrect:104\n",
            "large margin:165\n",
            "small margin:175\n"
          ],
          "name": "stdout"
        }
      ]
    },
    {
      "cell_type": "markdown",
      "metadata": {
        "id": "5K7UT7dyj_6R",
        "colab_type": "text"
      },
      "source": [
        "`alldat` contains 39 sessions from 10 mice, data from Steinmetz et al, 2019. Time bins for all measurements are 10ms, starting 500ms before stimulus onset. The mouse had to determine which side has the highest contrast. For each `dat = alldat[k]`, you have the following fields:\n",
        "\n",
        "* `dat['mouse_name']`: mouse name\n",
        "* `dat['date_exp']`: when a session was performed\n",
        "* `dat['spks']`: neurons by trials by time bins.    \n",
        "* `dat['brain_area']`: brain area for each neuron recorded. \n",
        "* `dat['contrast_right']`: contrast level for the right stimulus, which is always contralateral to the recorded brain areas.\n",
        "* `dat['contrast_left']`: contrast level for left stimulus. \n",
        "* `dat['gocue']`: when the go cue sound was played. \n",
        "* `dat['response_times']`: when the response was registered, which has to be after the go cue. The mouse can turn the wheel before the go cue (and nearly always does!), but the stimulus on the screen won't move before the go cue.  \n",
        "* `dat['response']`: which side the response was (`-1`, `0`, `1`). When the right-side stimulus had higher contrast, the correct choice was `-1`. `0` is a no go response. \n",
        "* `dat['feedback_time']`: when feedback was provided. \n",
        "* `dat['feedback_type']`: if the feedback was positive (`+1`, reward) or negative (`-1`, white noise burst).  \n",
        "* `dat['wheel']`: exact position of the wheel that the mice uses to make a response, binned at `10ms`. \n",
        "* `dat['pupil']`: pupil area  (noisy, because pupil is very small) + pupil horizontal and vertical position. \n",
        "* `dat['lfp']`: recording of the local field potential in each brain area from this experiment, binned at `10ms`.\n",
        "* `dat['brain_area_lfp']`: brain area names for the LFP channels. \n",
        "* `dat['trough_to_peak']`: measures the width of the action potential waveform for each neuron. Widths `<=10` samples are \"putative fast spiking neurons\". \n",
        "* `dat['waveform_w']`: temporal components of spike waveforms. `w@u` reconstructs the time by channels action potential shape. \n",
        "* `dat['waveform_u]`: spatial components of spike waveforms.\n",
        "* `dat['%X%_passive']`: same as above for `X` = {`spks`, `lfp`, `pupil`, `wheel`, `contrast_left`, `contrast_right`} but for  passive trials at the end of the recording when the mouse was no longer engaged and stopped making responses. \n",
        "\n",
        "\n"
      ]
    },
    {
      "cell_type": "code",
      "metadata": {
        "id": "raBVOEWgUK_B",
        "colab_type": "code",
        "colab": {}
      },
      "source": [
        "# import matplotlib and set defaults\n",
        "from matplotlib import rcParams \n",
        "from matplotlib import pyplot as plt\n",
        "rcParams['figure.figsize'] = [20, 4]\n",
        "rcParams['font.size'] =15\n",
        "rcParams['axes.spines.top'] = False\n",
        "rcParams['axes.spines.right'] = False\n",
        "rcParams['figure.autolayout'] = True"
      ],
      "execution_count": 4,
      "outputs": []
    },
    {
      "cell_type": "code",
      "metadata": {
        "id": "JYhiUDTi1uAZ",
        "colab_type": "code",
        "colab": {}
      },
      "source": [
        "# groupings of brain regions\n",
        "regions = [\"vis ctx\", \"thal\", \"hipp\", \"other ctx\", \"midbrain\", \"basal ganglia\", \"cortical subplate\", \"other\"]\n",
        "brain_groups = [[\"VISa\", \"VISam\", \"VISl\", \"VISp\", \"VISpm\", \"VISrl\"], # visual cortex\n",
        "                [\"CL\", \"LD\", \"LGd\", \"LH\", \"LP\", \"MD\", \"MG\", \"PO\", \"POL\", \"PT\", \"RT\", \"SPF\", \"TH\", \"VAL\", \"VPL\", \"VPM\"], # thalamus\n",
        "                [\"CA\", \"CA1\", \"CA2\", \"CA3\", \"DG\", \"SUB\", \"POST\"], # hippocampal\n",
        "                [\"ACA\", \"AUD\", \"COA\", \"DP\", \"ILA\", \"MOp\", \"MOs\", \"OLF\", \"ORB\", \"ORBm\", \"PIR\", \"PL\", \"SSp\", \"SSs\", \"RSP\",\" TT\"], # non-visual cortex\n",
        "                [\"APN\", \"IC\", \"MB\", \"MRN\", \"NB\", \"PAG\", \"RN\", \"SCs\", \"SCm\", \"SCig\", \"SCsg\", \"ZI\"], # midbrain\n",
        "                [\"ACB\", \"CP\", \"GPe\", \"LS\", \"LSc\", \"LSr\", \"MS\", \"OT\", \"SNr\", \"SI\"], # basal ganglia \n",
        "                [\"BLA\", \"BMA\", \"EP\", \"EPd\", \"MEA\"] # cortical subplate\n",
        "                ]\n",
        "\n",
        "nareas = 4 # only the top 4 regions are in this particular mouse\n",
        "NN = len(dat['brain_area']) # number of neurons\n",
        "barea = nareas * np.ones(NN, ) # last one is \"other\"\n",
        "for j in range(nareas):\n",
        "  barea[np.isin(dat['brain_area'], brain_groups[j])] = j # assign a number to each region"
      ],
      "execution_count": 5,
      "outputs": []
    },
    {
      "cell_type": "markdown",
      "metadata": {
        "id": "YWksczF8vzTV",
        "colab_type": "text"
      },
      "source": [
        "# Helper Functions\n",
        "Note: Clamp427, VarHunter427 and HeatMap are provided by Pixel"
      ]
    },
    {
      "cell_type": "code",
      "metadata": {
        "id": "-tr7ufS8o3IT",
        "colab_type": "code",
        "colab": {}
      },
      "source": [
        "import copy\n",
        "\n",
        "def smooth_dat(dat):\n",
        "  \"\"\" Given a session of data: dat\n",
        "      return the smoothed data, which is the firing rate for each recorded neuron\n",
        "      by convolving the raw spikes counts data with a 1d gaussian filter\n",
        "  Args:\n",
        "    dat(dict): one session of data\n",
        "  Return:\n",
        "    dat_rate (dict): a deep copy of input data, with its raw spike counts data replaced\n",
        "    by the spking rate data after convoling\n",
        "  \"\"\"\n",
        "\n",
        "  dat_smoothed = copy.deepcopy(dat)\n",
        "  for i in range(dat_smoothed['spks'].shape[0]):\n",
        "    for j in range(dat_smoothed['spks'].shape[1]):\n",
        "      spks = copy.deepcopy(dat['spks'][i][j])\n",
        "      dat_smoothed['spks'][i][j] = np.convolve(spks, gaussian, 'same')\n",
        "\n",
        "  return dat_smoothed\n"
      ],
      "execution_count": null,
      "outputs": []
    },
    {
      "cell_type": "code",
      "metadata": {
        "id": "CKvFsVTsmrv6",
        "colab_type": "code",
        "colab": {}
      },
      "source": [
        "def Clamp427(val,min_val,max_val):\n",
        "   return max(min(val,max_val),min_val)\n",
        "   \n",
        "def VarHunter427(dat, trial_ave = None, time_seg = None, nPC = 4):\n",
        "  \"\"\" Given a session of data: dat\n",
        "      print out variance explained using PCA on spike data by brain sub-regions\n",
        "  Args:\n",
        "    dat (np.arr):\n",
        "      dat = alldat[s] s:= session number\n",
        "    trial_ave (arr like object):\n",
        "      trial number to average over; if None, then stack all time steps along all trials\n",
        "    time_seg (slice object): # first 80 bins = 1.6 sec\n",
        "      specify the slice of time (3rd dim in dat['spks']) over which PCA is done\n",
        "    nPC (int):\n",
        "      number of principal components\n",
        "  Return:\n",
        "\n",
        "  \"\"\"\n",
        "  nTimebins = dat['spks'].shape[-1] # number of bins\n",
        "  if time_seg == None:\n",
        "    time_seg == slice(51,130) # default\n",
        "  list_var = list() # list of lists\n",
        "  list_tot = list() # list of floats\n",
        "  list_PC_NN = list() # list of len 2 tuples storing nPC and NN_\n",
        "  brain_arr = list(set(dat['brain_area'])) # all unique brain_areas\n",
        "  for str_ in brain_arr: # iterate over all unique brain_areas\n",
        "      filter_ = np.isin(dat['brain_area'], [str_])\n",
        "      NN_ = filter_.sum()\n",
        "      # stack all of the time bins along trials (collapse dim 1 and 2)\n",
        "      droll = np.reshape(dat['spks'][filter_][:,:,time_seg], (NN_,-1))\n",
        "      droll = droll - np.mean(droll, axis=1)[:, np.newaxis]\n",
        "      nPC = Clamp427(nPC, 0, min(droll.shape[0],droll.shape[1])) # 0: n_features, 1: n_samples\n",
        "      model = PCA(n_components = nPC).fit(droll.T)\n",
        "      W = model.components_\n",
        "      pc_10ms = W @ np.reshape(dat['spks'][filter_], (NN_,-1))\n",
        "      pc_10ms = np.reshape(pc_10ms, (nPC, -1, nTimebins))\n",
        "      variance_perc = model.explained_variance_ratio_\n",
        "      tot_var = np.sum(variance_perc)\n",
        "      list_var.append(variance_perc)\n",
        "      list_tot.append(tot_var)\n",
        "      list_PC_NN.append((nPC, droll.shape[0]))\n",
        "  list_var = np.array(list_var)\n",
        "  list_tot = np.array(list_tot)\n",
        "  brain_arr = np.array(brain_arr)\n",
        "  list_PC_NN = np.array(list_PC_NN)\n",
        "\n",
        "  by_totnPC = np.argsort(list_tot)[::-1] # descending order\n",
        "  list_var = list_var[by_totnPC]\n",
        "  list_tot = list_tot[by_totnPC]\n",
        "  brain_arr = brain_arr[by_totnPC]\n",
        "  list_PC_NN = list_PC_NN[by_totnPC]\n",
        "  for i in range(len(list_tot)):\n",
        "      print('region: ', brain_arr[i].ljust(5), 'PC:n_features ' \\\n",
        "            , list_PC_NN[i][0], ':', str(list_PC_NN[i][1]).ljust(4) \\\n",
        "            , 'total: %.3f' %list_tot[i], 'var explained: ', list_var[i])\n",
        "  "
      ],
      "execution_count": 10,
      "outputs": []
    },
    {
      "cell_type": "code",
      "metadata": {
        "id": "6RxKAr7HGTl3",
        "colab_type": "code",
        "colab": {}
      },
      "source": [
        "def HeatMapTSegXBrainReg(PCperSlice_regions, brain_arr, x_labels, choice_PC = [0,1,2,3]):\n",
        "  \"\"\"\n",
        "    Args:\n",
        "    PCperSlice_regions (np.arr; (nSlice, nPC, len(brain_arr)):\n",
        "      nSlice: slice of data on which PCA is performed (x-axis of the heatmaps)\n",
        "      nPC: number of PC = number of heatmaps\n",
        "      len(brain_arr): number of regions after collapsing all neurons into subgroups\n",
        "    brain_arr (list):\n",
        "      string name for brain regions / or str(index) for each neuron in given region\n",
        "      (in the latter case the y-axis will just be all neurons in given region)\n",
        "      size of which should be equal to the PCperSlice_regions.shape[2]\n",
        "    x_labels (list):\n",
        "      string name for different trails groups on the x-axis\n",
        "    choice_PC (1D array like object):\n",
        "      PC index to display heat map on\n",
        "  \"\"\"\n",
        "  xLen = PCperSlice_regions.shape[0] # x is time segment slices\n",
        "  yLen = PCperSlice_regions.shape[2] # y is brain region\n",
        "  \n",
        "  #fig, ax = plt.subplots() # create a plot\n",
        "  fig, axs = plt.subplots(1, len(choice_PC), figsize=(20, 9))\n",
        "  # do min(4,nPC) components\n",
        "  for pc in range(len(choice_PC)):\n",
        "    theMatrix = PCperSlice_regions[:,choice_PC[pc],:].T # transpose it\n",
        "    im = axs[pc].imshow(theMatrix)\n",
        "    # show all ticks & labels\n",
        "    \"\"\"\n",
        "    # Create colorbar\n",
        "    cbar_kw = {}\n",
        "    cbar = fig.colorbar(im, ax=axs[pc], **cbar_kw)\n",
        "    cbar.ax.set_ylabel('PC weights', rotation=-90, va=\"bottom\")\n",
        "    \"\"\"\n",
        "    axs[pc].set_xticks(np.arange(xLen))\n",
        "    axs[pc].set_yticks(np.arange(yLen))\n",
        "    axs[pc].set_xticklabels(x_labels)\n",
        "    axs[pc].set_yticklabels(brain_arr)\n",
        "    # Rotate the tick labels and set their alignment\n",
        "    plt.setp(axs[pc].get_xticklabels(), rotation=70, ha=\"right\", rotation_mode=\"anchor\")\n",
        "    # Loop over data dimensions and create text annotations\n",
        "    \"\"\"\n",
        "    for y in range(yLen): # row of theMatrix\n",
        "        for x in range(xLen): # col of theMatrix\n",
        "            text = axs[pc].text(x, y, theMatrix[y, x],\n",
        "                          ha=\"center\", va=\"center\", color=\"w\")\n",
        "    \"\"\"\n",
        "    axs[pc].set_title(\"PC {p:.0f}\".format(p = choice_PC[pc] + 1))\n",
        "  # Create colorbar\n",
        "  clb = fig.colorbar(im, ax=axs.ravel().tolist(), shrink = 0.42)\n",
        "  clb.ax.set_ylabel('PC weights', rotation=-90, va=\"bottom\")\n",
        "  clb.ax.set_anchor((1,0.5))\n",
        "  #fig.tight_layout()\n",
        "  plt.show()"
      ],
      "execution_count": 33,
      "outputs": []
    },
    {
      "cell_type": "code",
      "metadata": {
        "id": "B2fHkBgbmY6I",
        "colab_type": "code",
        "colab": {}
      },
      "source": [
        "VarHunter427(dat)"
      ],
      "execution_count": null,
      "outputs": []
    },
    {
      "cell_type": "markdown",
      "metadata": {
        "id": "x08qPQpSv6Hf",
        "colab_type": "text"
      },
      "source": [
        "# PCA by Trail Groups"
      ]
    },
    {
      "cell_type": "markdown",
      "metadata": {
        "id": "ImrElubEMWCV",
        "colab_type": "text"
      },
      "source": [
        "Note: \n",
        "1. VarHunter could be used to do sanity check on the variance explained\n",
        "2. Y-axis of the heat map: brain regions could be sorted by the magnitude of the weights or by number of neurons"
      ]
    },
    {
      "cell_type": "code",
      "metadata": {
        "id": "NNrZpJwPq1Ve",
        "colab_type": "code",
        "colab": {}
      },
      "source": [
        "from sklearn.decomposition import PCA \n",
        "\n",
        "def FindNumOfNeurons(dat):\n",
        "  \"\"\" Given one session, returns the number of neurons in each\n",
        "      of the brain regions it records from.\n",
        "  Args:\n",
        "      dat (dict): contains all recording information from one single session,\n",
        "                  including the brain area of each recorded neuron.\n",
        "  Return:\n",
        "      NN (dict): a dictionary contains all the recorded brain regions in one session\n",
        "                 as the key, and number of neurons in each of these regions\n",
        "  \"\"\"\n",
        "\n",
        "  barea = dat['brain_area']\n",
        "  NN = {}\n",
        "  for i in range(len(barea)):\n",
        "    if barea[i] not in NN:\n",
        "      NN[barea[i]] = 0\n",
        "    NN[barea[i]] += 1\n",
        "  return NN\n",
        "\n",
        "\n",
        "\n",
        "def PCAbyTrailGroup(spks, n_component):\n",
        "  \"\"\" Given dat, perform PCA on its spks\n",
        "  Args: \n",
        "      spks\n",
        "  Return:\n",
        "      W (list, shape(n_component, n_neurons)): \n",
        "      weights of PCs with our specified number of components, \n",
        "  \"\"\"\n",
        "  droll = np.reshape(spks[:,:,51:130], (NN,-1)) # first 80 bins = 1.6 sec\n",
        "  droll = droll - np.mean(droll, axis=1)[:, np.newaxis]\n",
        "  model = PCA(n_component).fit(droll.T)\n",
        "  W = model.components_\n",
        "  return W\n",
        "\n",
        "\n",
        "\n",
        "def Region_Averaged_PC_weights(W, params):\n",
        "  \"\"\" Given the weights of all PCs of interest, compute the brain region-averaged \n",
        "      PC weights for each of the PC.\n",
        "  Args:\n",
        "      W ((n_component, NN) array): weights of PCs of interest\n",
        "      params (dict): contains a list of brain area and a list of number of neurons in each area\n",
        "  Return:\n",
        "      w_by_region ((n_component, num_brain_area) array)\n",
        "  \"\"\" \n",
        "  barea = params['barea']\n",
        "  num_neurons = params['num_neurons']\n",
        "  w_by_region = []\n",
        "  for PC in W:\n",
        "    w_per_PC = []\n",
        "    for area in barea:\n",
        "      local_neurons = dat['brain_area'] == area \n",
        "      w_per_PC.append(np.sum(local_neurons * PC))\n",
        "    for i in range(len(w_per_PC)):\n",
        "      w_per_PC[i] /= num_neurons[i]\n",
        "    w_by_region.append(w_per_PC)\n",
        "  return barea, w_by_region\n"
      ],
      "execution_count": 34,
      "outputs": []
    },
    {
      "cell_type": "code",
      "metadata": {
        "id": "Xs1R89Mn17pS",
        "colab_type": "code",
        "colab": {}
      },
      "source": [
        "def PCA_HeatMap_by_TrailGroup(dat):\n",
        "  \"\"\" Given dat, first seperate all trails to correct/incorrect, large/small margin groups,\n",
        "      then perform a PCA on each of these four conditions, and produce a heatmap on brain\n",
        "      region averaged weights of PC for correct/incorrect, and large/small margin group.\n",
        "  Args:\n",
        "      dat (dict): one session of recording.\n",
        "  Returns:\n",
        "      Two groups of heatmaps performed on correct/incorrect trails, and large/small margin \n",
        "      trails, respectively. Each group of heatmap contains 4 seperate heatmaps corresponding \n",
        "      to top 4 PCs sorted by descending variance explained. The Y-axis of each heatmap\n",
        "      labels different brain regions in the input session, sorted by descending number of \n",
        "      recorded neurons. The X-axis is different trail groups. \n",
        "  \"\"\"\n",
        "\n",
        "  # preprocessing for PCA\n",
        "  spks = dat['spks']\n",
        "  response = dat['response']\n",
        "  vis_left = dat['contrast_left']\n",
        "  vis_right = dat['contrast_right']\n",
        "  is_correct = np.sign(response)==np.sign(vis_left-vis_right)\n",
        "  large_margin = np.abs(vis_left - vis_right) > 0.49\n",
        "\n",
        "  # perform PCA on each of correct/incorrect, large/small margin trails\n",
        "  # plotting the variance explained by the top few PCs\n",
        "  w_cor = PCAbyTrailGroup(spks[:, is_correct, :], 4)        # PCA on correct trail group\n",
        "  w_incor = PCAbyTrailGroup(spks[:, ~is_correct, :], 4)     # PCA on incorrect trail group\n",
        "  w_lar_margin = PCAbyTrailGroup(spks[:, large_margin, :], 4)   # PCA on large margin trial group\n",
        "  w_smal_margin = PCAbyTrailGroup(spks[:, ~large_margin, :], 4) # PCA on small margin trail group\n",
        "\n",
        "  # sort both the weights and the barea by descending number of neurons within each region\n",
        "  barea_dict = FindNumOfNeurons(dat)\n",
        "  barea_keys = list(FindNumOfNeurons(dat).keys())\n",
        "  barea = []\n",
        "  num_neurons = sorted(FindNumOfNeurons(dat).values(), reverse=True)  # sort the number of neurons\n",
        "  for i in range(len(num_neurons)):\n",
        "    for j in range(len(barea_keys)):\n",
        "      if barea_dict[barea_keys[j]] == num_neurons[i]:\n",
        "        barea.append(barea_keys[j])\n",
        "  params = {'barea': barea, 'num_neurons': num_neurons}\n",
        "\n",
        "  # average PC weights by brain regions for each of four trail groups\n",
        "  barea_cor, w_cor_aver     =  Region_Averaged_PC_weights(w_cor, params)\n",
        "  barea_incor, w_incor_aver =  Region_Averaged_PC_weights(w_incor, params)\n",
        "  barea_lar, w_lar_aver     =  Region_Averaged_PC_weights(w_lar_margin, params)\n",
        "  barea_smal, w_smal_aver   =  Region_Averaged_PC_weights(w_smal_margin, params)\n",
        "\n",
        "  # converting region-averaged weights to Heatmap\n",
        "  w_cor_incor = np.array([w_cor_aver, w_incor_aver])\n",
        "  w_lar_smal_margin = np.array([w_lar_aver, w_smal_aver])\n",
        "  x_label_cor = ['correct', 'incorrect']\n",
        "  x_label_mar = ['large margin', 'small margin']\n",
        "  HeatMapTSegXBrainReg(w_cor_incor, barea, x_label_cor, choice_PC = [0,1,2,3])\n",
        "  HeatMapTSegXBrainReg(w_lar_smal_margin, barea, x_label_mar, choice_PC = [0,1,2,3])"
      ],
      "execution_count": 49,
      "outputs": []
    },
    {
      "cell_type": "code",
      "metadata": {
        "id": "N0VorL8kO7IO",
        "colab_type": "code",
        "colab": {
          "base_uri": "https://localhost:8080/",
          "height": 1000
        },
        "outputId": "52ba6c2d-6f1c-484b-dacc-bbf02b51a67d"
      },
      "source": [
        "PCA_HeatMap_by_TrailGroup(dat)"
      ],
      "execution_count": 50,
      "outputs": [
        {
          "output_type": "stream",
          "text": [
            "/usr/local/lib/python3.6/dist-packages/IPython/core/pylabtools.py:125: UserWarning: This figure includes Axes that are not compatible with tight_layout, so results might be incorrect.\n",
            "  fig.canvas.print_figure(bytes_io, **kw)\n"
          ],
          "name": "stderr"
        },
        {
          "output_type": "display_data",
          "data": {
            "image/png": "[encoded data removed]",
            "text/plain": [
              "<Figure size 1440x648 with 5 Axes>"
            ]
          },
          "metadata": {
            "tags": [],
            "needs_background": "light"
          }
        },
        {
          "output_type": "display_data",
          "data": {
            "image/png": "[encoded data removed]",
            "text/plain": [
              "<Figure size 1440x648 with 5 Axes>"
            ]
          },
          "metadata": {
            "tags": [],
            "needs_background": "light"
          }
        }
      ]
    }
  ]
}